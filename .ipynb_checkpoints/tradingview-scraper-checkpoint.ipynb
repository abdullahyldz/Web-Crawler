{
 "cells": [
  {
   "cell_type": "code",
   "execution_count": 1,
   "metadata": {},
   "outputs": [],
   "source": [
    "#First import neccessary libraries\n",
    "from bs4 import BeautifulSoup\n",
    "import requests"
   ]
  },
  {
   "cell_type": "code",
   "execution_count": 2,
   "metadata": {},
   "outputs": [],
   "source": [
    "baseUrl = \"https://tr.tradingview.com\""
   ]
  },
  {
   "cell_type": "code",
   "execution_count": 3,
   "metadata": {},
   "outputs": [],
   "source": [
    "class StockCard:\n",
    "    def __init__(self, abb):\n",
    "        self.abb = abb\n",
    "        self.ideas = []\n",
    "    \n",
    "    def __str__(self):\n",
    "        ideas = \"\\n\".join([idea.title for idea in self.ideas])\n",
    "        return \"Abbreviation:\\n%s\\nIdeas:%s\" % (self.abb, ideas)\n",
    "            \n",
    "class Idea:\n",
    "    def __init__(self, title, author, link):\n",
    "        self.title = title\n",
    "        self.author = author\n",
    "        self.link = link\n",
    "\n",
    "def getIdeas(soup):\n",
    "    table = soup.find_all(\"div\", class_=\"tv-feed__item js_cb_class tv-feed-layout__card-item\")\n",
    "    ideas = []\n",
    "    for ideaCard in table:\n",
    "        ideaInfo = ideaCard.find('div', class_=\"tv-widget-idea__title-row\")\n",
    "        ideaLink = ideaInfo.find('a', href=True)['href']\n",
    "        ideaTitle = ideaInfo.getText().strip()\n",
    "        ideaAuthor = ideaCard.find('div', class_=\"tv-widget-idea__author-row\").find('span', class_=\"tv-card-user-info__username\").getText()\n",
    "        idea = Idea(ideaTitle, ideaAuthor, ideaLink)\n",
    "        ideas.append(idea)\n",
    "    return ideas"
   ]
  },
  {
   "cell_type": "code",
   "execution_count": 4,
   "metadata": {},
   "outputs": [],
   "source": [
    "def getScrapeExtention(stockName):\n",
    "    return f\"/symbols/BIST-{stockName}/ideas/\"\n",
    "\n",
    "def getSoup(url):\n",
    "    html = requests.get(url)\n",
    "    soup = BeautifulSoup(html.content, 'html.parser',from_encoding='utf-8')\n",
    "    return soup"
   ]
  },
  {
   "cell_type": "code",
   "execution_count": 5,
   "metadata": {},
   "outputs": [
    {
     "name": "stdout",
     "output_type": "stream",
     "text": [
      "Abbreviation:\n",
      "SOKM\n",
      "Ideas:abcd olursaaaa\n",
      "SOKM // Düşen Kırılımı ve Flama Görünümü\n",
      "SOKM 12,80\n",
      "SOKM... EEE DAHA NEYİ BEKLİYORSUN ???\n",
      "Sokm Kanal Stratejisi\n",
      "SOKM\n",
      "SOKM Kanal Çalışması\n",
      "sokm\n",
      "SOKM..\n",
      "ŞOK MARKET ÜÇGENDEN ÇIKABİLECEK Mİ?\n",
      "SOKM'da Teknik Durum - 15.10.2020\n",
      "sokmarket\n",
      "not alıyorum YTD\n",
      "SOKM SAATLIKTE YAKISIKLI DURUYOR..\n",
      "Sokm üçgen\n",
      "SOKM\n",
      "SOKM (Şok Marketler) 4 saatlik\n",
      "SOKM, Flama takip.\n",
      "\n",
      "Abbreviation:\n",
      "MPARK\n",
      "Ideas:Mpark\n",
      "MPARK YÜKSELEN ÜÇGEN (Henüz Kırmadı)\n",
      "Yükselen Üçgen Formasyonu\n",
      "mpark\n",
      "MPARK - DOKTOR HASTANIN DURUMU NE?\n",
      "mpark sağlam geliyor\n",
      "MPARK Formasyon Çalışması\n",
      "MPARK..\n",
      "MPARK  GÜNLÜK  DESTEK DİRENÇ,TREND VE EMA ÇALIŞMASI\n",
      "mpark\n",
      "veni vidi vici\n",
      "mpark\n",
      "MPARK SAĞLIKTA RİTM SIKIŞMASI..\n",
      "MPARK İNDİKATÖR ANALİZİ\n",
      "alt bat  pattern olasılığı\n",
      "MPARK GRAFİĞİNDE BEKLENTİM\n",
      "Mpark 1D\n",
      "MPARK'TA GRAFİK GÜZEL\n",
      "\n",
      "Abbreviation:\n",
      "INDES\n",
      "Ideas:INDES FLAMA FORMASYONU\n",
      "INDES\n",
      "#INDES  Flama formasyonu\n",
      "Indes Flamayı tamamladı. Neredeyse patlamaya hazır bomba.\n",
      "ındes\n",
      "indes\n",
      "INDES HEDEFİNE GİDEBİLECEK Mİ?\n",
      "INDES  GÜNLÜK DESTEK DİRENÇ ,EMA VE FORMASYON ÇALIŞMASI\n",
      "INDES yakın plan\n",
      "INDES ALIM DENEMESİ\n",
      "INDES\n",
      "İNDES  BÜYÜK KIRILIMDA\n",
      "INDES Direnç & Destekler\n",
      "INDES formasyon denemesi\n",
      "Fincan Kulp ve Zirve Aşımı\n",
      "Indes\n",
      "Indes Değerlendirme\n",
      "INDES\n",
      "\n"
     ]
    }
   ],
   "source": [
    "stockNames = [\"SOKM\", \"MPARK\", \"INDES\"]\n",
    "stockCards = []\n",
    "\n",
    "for stockName in stockNames:\n",
    "    stockCard = StockCard(stockName)\n",
    "    scrapeExtention = getScrapeExtention(stockName)\n",
    "    url = baseUrl + scrapeExtention\n",
    "    soup = getSoup(url)\n",
    "    stockCard.ideas = getIdeas(soup)\n",
    "    stockCards.append(stockCard)\n",
    "    \n",
    "for stockCard in stockCards:\n",
    "    print(stockCard)\n",
    "    print()"
   ]
  },
  {
   "cell_type": "code",
   "execution_count": null,
   "metadata": {},
   "outputs": [],
   "source": []
  }
 ],
 "metadata": {
  "kernelspec": {
   "display_name": "Python 3",
   "language": "python",
   "name": "python3"
  },
  "language_info": {
   "codemirror_mode": {
    "name": "ipython",
    "version": 3
   },
   "file_extension": ".py",
   "mimetype": "text/x-python",
   "name": "python",
   "nbconvert_exporter": "python",
   "pygments_lexer": "ipython3",
   "version": "3.8.3"
  }
 },
 "nbformat": 4,
 "nbformat_minor": 4
}
