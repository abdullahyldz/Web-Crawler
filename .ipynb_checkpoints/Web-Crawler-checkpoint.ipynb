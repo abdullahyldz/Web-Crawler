{
 "cells": [
  {
   "cell_type": "code",
   "execution_count": 9,
   "metadata": {},
   "outputs": [],
   "source": [
    "#First import neccessary libraries\n",
    "from bs4 import BeautifulSoup\n",
    "import requests"
   ]
  },
  {
   "cell_type": "markdown",
   "metadata": {},
   "source": [
    "# Crawl Main Turkish Wikipedia Page"
   ]
  },
  {
   "cell_type": "code",
   "execution_count": 4,
   "metadata": {},
   "outputs": [],
   "source": [
    "#Crawling main Turkish Wikipedia page\n",
    "url = \"https://tr.wikipedia.org/wiki/Anasayfa\""
   ]
  },
  {
   "cell_type": "code",
   "execution_count": 5,
   "metadata": {},
   "outputs": [],
   "source": [
    "# Set headers\n",
    "headers = requests.utils.default_headers()\n",
    "headers.update({ 'User-Agent': 'Mozilla/5.0 (X11; Ubuntu; Linux x86_64; rv:52.0) Gecko/20100101 Firefox/52.0'})"
   ]
  },
  {
   "cell_type": "code",
   "execution_count": 6,
   "metadata": {},
   "outputs": [],
   "source": [
    "html = requests.get(url)\n",
    "soup = BeautifulSoup(html.content, 'html.parser',from_encoding='utf-8')"
   ]
  },
  {
   "cell_type": "markdown",
   "metadata": {},
   "source": [
    "## 'On This Day' Section"
   ]
  },
  {
   "cell_type": "code",
   "execution_count": 18,
   "metadata": {},
   "outputs": [
    {
     "name": "stdout",
     "output_type": "stream",
     "text": [
      "Vikipedi:Tarihte bugün\n"
     ]
    }
   ],
   "source": [
    "tds1 = soup.find_all('td', class_='MainPageBG')[1]\n",
    "#print(tds.prettify())\n",
    "tables = tds1.find_all('table')\n",
    "table2 = tables[2]\n",
    "#On inspection screen, it seems like there are 2 'table' entities but there is another 'table' inside first \n",
    "#'table'>'tbody'>'tr'[1]>'td'>'table'\n",
    "section = table2.find_all('tr')\n",
    "header = section[0].find('th').find('a')['title']\n",
    "print(header)"
   ]
  },
  {
   "cell_type": "code",
   "execution_count": 16,
   "metadata": {},
   "outputs": [
    {
     "data": {
      "text/plain": [
       "'<p>\\n <strong>\\n  <big>\\n   Olaylar\\n  </big>\\n </strong>\\n</p>\\n'"
      ]
     },
     "execution_count": 16,
     "metadata": {},
     "output_type": "execute_result"
    }
   ],
   "source": [
    "events = table2.find_all('tr')[1].find('div', id = 'mp-itn')\n",
    "events.find('p').prettify()"
   ]
  },
  {
   "cell_type": "code",
   "execution_count": null,
   "metadata": {},
   "outputs": [],
   "source": []
  }
 ],
 "metadata": {
  "kernelspec": {
   "display_name": "Python 3",
   "language": "python",
   "name": "python3"
  },
  "language_info": {
   "codemirror_mode": {
    "name": "ipython",
    "version": 3
   },
   "file_extension": ".py",
   "mimetype": "text/x-python",
   "name": "python",
   "nbconvert_exporter": "python",
   "pygments_lexer": "ipython3",
   "version": "3.7.1"
  }
 },
 "nbformat": 4,
 "nbformat_minor": 2
}
