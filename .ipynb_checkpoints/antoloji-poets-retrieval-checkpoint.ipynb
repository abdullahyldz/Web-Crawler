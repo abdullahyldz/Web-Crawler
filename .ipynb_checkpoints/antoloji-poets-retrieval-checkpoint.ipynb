{
 "cells": [
  {
   "cell_type": "code",
   "execution_count": 1,
   "id": "44c8b7d7",
   "metadata": {},
   "outputs": [
    {
     "name": "stdout",
     "output_type": "stream",
     "text": [
      "Requirement already satisfied: beautifulsoup4 in c:\\users\\yldz-\\appdata\\local\\programs\\python\\python38\\lib\\site-packages (4.9.3)\n",
      "Requirement already satisfied: soupsieve>1.2 in c:\\users\\yldz-\\appdata\\local\\programs\\python\\python38\\lib\\site-packages (from beautifulsoup4) (2.2.1)\n"
     ]
    }
   ],
   "source": [
    "import requests, re, string\n",
    "!pip install beautifulsoup4\n",
    "from bs4 import BeautifulSoup\n",
    "from tabulate import tabulate"
   ]
  },
  {
   "cell_type": "markdown",
   "id": "893186f6",
   "metadata": {},
   "source": [
    "# Antoloji.com Page Scraping\n",
    "\n",
    "https://www.antoloji.com/ consists of hundreds of pets and thousands of poems information.\n",
    "\n",
    "This work intents to scrape the website using Python's BeautifulSoup library for educational purposes.\n",
    "\n",
    "2 levels of scraping is carried out. First is to obtain the poet names and second is to get poems of those poets."
   ]
  },
  {
   "attachments": {
    "image.png": {
     "image/png": "[encoded data removed]"
    }
   },
   "cell_type": "markdown",
   "id": "d6309f40",
   "metadata": {},
   "source": [
    "# 1) Poets Listing Page\n",
    "\n",
    "**poetsListUrl** is the main page that lists Poet names in a paginated form.\n",
    "\n",
    "An html representation of the page is obtained with the help of requests library\n",
    "\n",
    "### * Retrieve Poet Names\n",
    "\n",
    "By observing the page's HTML structure, one can see that there is a 'ul' element with class name **'pd-text-mini'** that contains all the Poet table.\n",
    "\n",
    "Simply scrape that part and read all the list items (li) in it.\n",
    "\n",
    "### * Where to stop scraping poets?\n",
    "\n",
    "There is a pagination component at to bottom of the page identified by class name **'pagination'**\n",
    "\n",
    "Idea is to scrape that part and compare the greatest page id with current page id\n",
    "\n",
    "**getGreatestPageId** function returns either '...' or current page number or larger number\n",
    "\n",
    "Use **hasMore** function to continue paging\n",
    "\n",
    "![image.png](attachment:image.png)"
   ]
  },
  {
   "cell_type": "code",
   "execution_count": 2,
   "id": "7dd44689",
   "metadata": {},
   "outputs": [],
   "source": [
    "poetsListUrl = \"https://www.antoloji.com/populer-sairler/sirala-baslik/sayfa-{0}/\"\n",
    "poetsPersonalUrl = \"https://www.antoloji.com/{0}\""
   ]
  },
  {
   "cell_type": "code",
   "execution_count": 3,
   "id": "d4af603a",
   "metadata": {},
   "outputs": [],
   "source": [
    "def getSoup(url): \n",
    "    page = requests.get(url) # Retrieve response html\n",
    "    soup = BeautifulSoup(page.content, 'html.parser') # Create the soup\n",
    "    return soup"
   ]
  },
  {
   "cell_type": "code",
   "execution_count": 4,
   "id": "d1d1d38a",
   "metadata": {},
   "outputs": [],
   "source": [
    "def getGreatestPageId(soup):\n",
    "    paginationUl = soup.find_all('ul', class_='pagination')\n",
    "    if(not paginationUl):\n",
    "        return -1\n",
    "    paginationListItems = paginationUl[0].find_all('li')\n",
    "    lastIndex = -2\n",
    "    while(True):\n",
    "        greatestPageId = paginationListItems[lastIndex].text\n",
    "        if(not greatestPageId.isdigit()):\n",
    "            lastIndex -= 1\n",
    "        else:\n",
    "            break\n",
    "    return greatestPageId"
   ]
  },
  {
   "cell_type": "code",
   "execution_count": 5,
   "id": "3335b5d1",
   "metadata": {},
   "outputs": [],
   "source": [
    "def hasMore(currentPageId, maxPageId):\n",
    "    return (not maxPageId == -1) and maxPageId.isdigit() and currentPageId < int(maxPageId)"
   ]
  },
  {
   "cell_type": "code",
   "execution_count": 6,
   "id": "088a11f5",
   "metadata": {},
   "outputs": [],
   "source": [
    "# Scrape unordered list and get li items\n",
    "def getPoetNames(poets):\n",
    "    poet_names = []\n",
    "    poetsSoup = poets[0].find_all('li')\n",
    "    for poet in poetsSoup:\n",
    "        poet_name = poet.find('h4').text\n",
    "        poet_names.append(poet_name)\n",
    "    return poet_names"
   ]
  },
  {
   "cell_type": "code",
   "execution_count": 7,
   "id": "7d8a026f",
   "metadata": {},
   "outputs": [
    {
     "name": "stdout",
     "output_type": "stream",
     "text": [
      "Scraping page 15 is complete \r"
     ]
    }
   ],
   "source": [
    "pageId = 1\n",
    "poet_names_collection = []\n",
    "while(True):    \n",
    "    url = poetsListUrl.format(pageId)\n",
    "    soup = getSoup(url)\n",
    "    greatestId = getGreatestPageId(soup) # Obtain the last page id\n",
    "    poets = soup.find_all('ul', class_='pd-text-mini') # Unordered list of poet items\n",
    "    poet_names = getPoetNames(poets)\n",
    "    poet_names_collection.extend(poet_names)\n",
    "    b = \"Scraping page %i is complete \" % pageId\n",
    "    print (b, end=\"\\r\")\n",
    "    pageId += 1\n",
    "    if(not hasMore(pageId, greatestId)):\n",
    "        break"
   ]
  },
  {
   "cell_type": "code",
   "execution_count": 8,
   "id": "5cbba6df",
   "metadata": {},
   "outputs": [
    {
     "name": "stdout",
     "output_type": "stream",
     "text": [
      "There are 450 number of poets. From 'A. Hicri İzgören' to 'Ziya Gökalp'\n"
     ]
    }
   ],
   "source": [
    "print('There are {0} number of poets. From \\'{1}\\' to \\'{2}\\''.format(len(poet_names_collection), poet_names_collection[0], poet_names_collection[-1]))"
   ]
  },
  {
   "cell_type": "code",
   "execution_count": 9,
   "id": "92cbdd5a",
   "metadata": {},
   "outputs": [],
   "source": [
    "turkish_lower_normalize = {\n",
    "    ord(u'İ'): u'i',\n",
    "    ord(u'Ü'): u'u',\n",
    "    ord(u'Ö'): u'o',\n",
    "    ord(u'ı'): u'i',\n",
    "    ord(u'ö'): u'o',\n",
    "    ord(u'ü'): u'u',\n",
    "    ord(u'Ç'): u'c',\n",
    "    ord(u'Ğ'): u'g',\n",
    "    ord(u'ğ'): u'g',\n",
    "    ord(u'Ş'): u's',\n",
    "    ord(u'ş'): u's',\n",
    "    ord(u'ç'): u'c',\n",
    "    ord(u'â'): u'a',\n",
    "    ord(u'û'): u'u',\n",
    "}\n",
    "\n",
    "table = []\n",
    "for name in poet_names_collection:\n",
    "    name_normalized = name.translate(turkish_lower_normalize).lower() # Translate Turkish characters\n",
    "    name_cleaned = re.sub('[^a-z]', ' ', name_normalized) # Remove non letter characters\n",
    "    name_reconstructed = \"-\".join(name_cleaned.split()) # Change consecutive spaces to dash \n",
    "    table.append([name, name_normalized, name_cleaned, name_reconstructed])"
   ]
  },
  {
   "cell_type": "markdown",
   "id": "8777d942",
   "metadata": {},
   "source": [
    "### Observe the Name Processing\n",
    "\n",
    "First operation is to convert Turkish specific characters to English equivalent\n",
    "\n",
    "Secondly, non-letter characters are replaced with blank space\n",
    "\n",
    "Last operation is to split spaces and put dashes in between words."
   ]
  },
  {
   "cell_type": "code",
   "execution_count": 10,
   "id": "5a1e9cd8",
   "metadata": {},
   "outputs": [
    {
     "name": "stdout",
     "output_type": "stream",
     "text": [
      "\u001b[1mOriginal                         Turkish-to-English Translate     Remove Non-letters              Poet Extension\u001b[0m\n",
      "-------------------------------  -------------------------------  ------------------------------  ----------------------------\n",
      "A. Hicri İzgören                 a. hicri izgoren                 a  hicri izgoren                a-hicri-izgoren\n",
      "A. Kadir (Abdülkadir Meriçboyu)  a. kadir (abdulkadir mericboyu)  a  kadir  abdulkadir mericboyu  a-kadir-abdulkadir-mericboyu\n",
      "A. Kadir Bilgin                  a. kadir bilgin                  a  kadir bilgin                 a-kadir-bilgin\n",
      "Abdullah Tukay                   abdullah tukay                   abdullah tukay                  abdullah-tukay\n",
      "Abdurrahim Karakoç               abdurrahim karakoc               abdurrahim karakoc              abdurrahim-karakoc\n",
      "Abdülhak Hamit Tarhan            abdulhak hamit tarhan            abdulhak hamit tarhan           abdulhak-hamit-tarhan\n",
      "Abdülkadir Budak                 abdulkadir budak                 abdulkadir budak                abdulkadir-budak\n",
      "Abdülkadir Bulut                 abdulkadir bulut                 abdulkadir bulut                abdulkadir-bulut\n",
      "Adnan Azar                       adnan azar                       adnan azar                      adnan-azar\n",
      "Adnan Özer                       adnan ozer                       adnan ozer                      adnan-ozer\n",
      "Adnan Satıcı                     adnan satici                     adnan satici                    adnan-satici\n",
      "Adnan Yücel                      adnan yucel                      adnan yucel                     adnan-yucel\n",
      "Adonis                           adonis                           adonis                          adonis\n",
      "Afşar Timuçin                    afsar timucin                    afsar timucin                   afsar-timucin\n",
      "Agah                             agah                             agah                            agah\n",
      "Ahmed Arif                       ahmed arif                       ahmed arif                      ahmed-arif\n",
      "Ahmed Paşa                       ahmed pasa                       ahmed pasa                      ahmed-pasa\n",
      "Ahmed Şamlu                      ahmed samlu                      ahmed samlu                     ahmed-samlu\n",
      "Ahmedi                           ahmedi                           ahmedi                          ahmedi\n",
      "Ahmet Ada                        ahmet ada                        ahmet ada                       ahmet-ada\n"
     ]
    }
   ],
   "source": [
    "bold_ascii = '\\033[1m'\n",
    "escape_bold_ascii = '\\033[0m'\n",
    "print(tabulate(table[:20], headers=[bold_ascii + 'Original', 'Turkish-to-English Translate', 'Remove Non-letters', 'Poet Extension' + escape_bold_ascii]))"
   ]
  },
  {
   "cell_type": "code",
   "execution_count": 11,
   "id": "9d79ca62",
   "metadata": {},
   "outputs": [
    {
     "name": "stdout",
     "output_type": "stream",
     "text": [
      "\u001b[1mExample 20 URLs to fetch poems\n",
      "\n",
      "https://www.antoloji.com/a-hicri-izgoren\n",
      "https://www.antoloji.com/a-kadir-abdulkadir-mericboyu\n",
      "https://www.antoloji.com/a-kadir-bilgin\n",
      "https://www.antoloji.com/abdullah-tukay\n",
      "https://www.antoloji.com/abdurrahim-karakoc\n",
      "https://www.antoloji.com/abdulhak-hamit-tarhan\n",
      "https://www.antoloji.com/abdulkadir-budak\n",
      "https://www.antoloji.com/abdulkadir-bulut\n",
      "https://www.antoloji.com/adnan-azar\n",
      "https://www.antoloji.com/adnan-ozer\n",
      "https://www.antoloji.com/adnan-satici\n",
      "https://www.antoloji.com/adnan-yucel\n",
      "https://www.antoloji.com/adonis\n",
      "https://www.antoloji.com/afsar-timucin\n",
      "https://www.antoloji.com/agah\n",
      "https://www.antoloji.com/ahmed-arif\n",
      "https://www.antoloji.com/ahmed-pasa\n",
      "https://www.antoloji.com/ahmed-samlu\n",
      "https://www.antoloji.com/ahmedi\n",
      "https://www.antoloji.com/ahmet-ada\n"
     ]
    }
   ],
   "source": [
    "print(bold_ascii + 'Example 20 URLs to fetch poems\\n')\n",
    "for poet in table[:20]:\n",
    "    print(poetsPersonalUrl.format(poet[-1]))"
   ]
  },
  {
   "cell_type": "markdown",
   "id": "cedbd3a1",
   "metadata": {},
   "source": [
    "# 2) Poet Information Retrieval\n",
    "\n",
    "**poetsPersonalUrl** is the personal page of Poets"
   ]
  },
  {
   "cell_type": "code",
   "execution_count": 12,
   "id": "bd6351d9",
   "metadata": {},
   "outputs": [],
   "source": [
    "class Poem:\n",
    "    def __init__(self, title, link, date):\n",
    "        self.title = title\n",
    "        self.date = date\n",
    "        self.link = link\n",
    "    def __str__(self):\n",
    "        return self.title + \" \" + self.link + \" \" +self.date"
   ]
  },
  {
   "cell_type": "code",
   "execution_count": 31,
   "id": "4b495535",
   "metadata": {},
   "outputs": [
    {
     "name": "stdout",
     "output_type": "stream",
     "text": [
      "Retrieving a-hicri-izgoren\n",
      "Retrieving a-kadir-abdulkadir-mericboyu\n",
      "Retrieving a-kadir-bilgin\n",
      "Retrieving abdullah-tukay\n",
      "Retrieving abdurrahim-karakoc\n",
      "Retrieving abdulhak-hamit-tarhan\n",
      "Retrieving abdulkadir-budak\n",
      "Retrieving abdulkadir-bulut\n",
      "Retrieving adnan-azar\n",
      "Retrieving adnan-ozer\n"
     ]
    }
   ],
   "source": [
    "poemUrl = 'https://www.antoloji.com/{0}/siirleri/ara-/sirala-/sayfa-{1}/'\n",
    "\n",
    "poemCollection = {}\n",
    "for row in table[:10]:\n",
    "    pageId = 1\n",
    "    poet_extension = row[-1]\n",
    "    poemCollection[poet_extension] = []\n",
    "    print('Retrieving %s' % poet_extension)\n",
    "    \n",
    "    while(True): # Retrieve all poems by paginating\n",
    "        try:\n",
    "            url = poemUrl.format(poet_extension, pageId)\n",
    "            soup = getSoup(url)\n",
    "            poems = soup.find_all('div', class_='poem-detail')[0].find_all('li') # Unordered list of poet items\n",
    "            for poemInfo in poems:\n",
    "                poem_date = poemInfo.find('p').text\n",
    "                poemAnchor = poemInfo.find_all('a')[-1]\n",
    "                poem_link_extension, poem_title = poemAnchor[\"href\"], poemAnchor[\"title\"]\n",
    "                poem = Poem(poem_title, poem_link_extension, poem_date)\n",
    "                poemCollection[poet_extension].append(poem)\n",
    "            greatestPageId = getGreatestPageId(soup) # Obtain the last page id\n",
    "            if(not hasMore(pageId, greatestPageId)):\n",
    "                break\n",
    "            pageId += 1\n",
    "        except Exception:\n",
    "            poemCollection.pop(poet_extension)\n",
    "            break\n",
    "        "
   ]
  },
  {
   "cell_type": "code",
   "execution_count": null,
   "id": "726918e5",
   "metadata": {},
   "outputs": [],
   "source": []
  }
 ],
 "metadata": {
  "kernelspec": {
   "display_name": "Python 3",
   "language": "python",
   "name": "python3"
  },
  "language_info": {
   "codemirror_mode": {
    "name": "ipython",
    "version": 3
   },
   "file_extension": ".py",
   "mimetype": "text/x-python",
   "name": "python",
   "nbconvert_exporter": "python",
   "pygments_lexer": "ipython3",
   "version": "3.8.7"
  }
 },
 "nbformat": 4,
 "nbformat_minor": 5
}
