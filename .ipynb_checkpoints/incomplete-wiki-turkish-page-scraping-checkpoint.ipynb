{
 "cells": [
  {
   "cell_type": "markdown",
   "metadata": {},
   "source": [
    "# Crawl Main Turkish Wikipedia Page"
   ]
  },
  {
   "cell_type": "code",
   "execution_count": 1,
   "metadata": {},
   "outputs": [],
   "source": [
    "#First import neccessary libraries\n",
    "from bs4 import BeautifulSoup\n",
    "import requests"
   ]
  },
  {
   "cell_type": "code",
   "execution_count": 2,
   "metadata": {},
   "outputs": [],
   "source": [
    "#Crawling main Turkish Wikipedia page\n",
    "url = \"https://tr.wikipedia.org/wiki/Anasayfa\""
   ]
  },
  {
   "cell_type": "code",
   "execution_count": 3,
   "metadata": {},
   "outputs": [],
   "source": [
    "# color class is copied from an answer to stackoverflow post by Boubakr\n",
    "# https://stackoverflow.com/questions/8924173/how-do-i-print-bold-text-in-python\n",
    "class color:\n",
    "   PURPLE = '\\033[95m'\n",
    "   CYAN = '\\033[96m'\n",
    "   DARKCYAN = '\\033[36m'\n",
    "   BLUE = '\\033[94m'\n",
    "   GREEN = '\\033[92m'\n",
    "   YELLOW = '\\033[93m'\n",
    "   RED = '\\033[91m'\n",
    "   BOLD = '\\033[1m'\n",
    "   UNDERLINE = '\\033[4m'\n",
    "   END = '\\033[0m'"
   ]
  },
  {
   "cell_type": "code",
   "execution_count": 4,
   "metadata": {},
   "outputs": [],
   "source": [
    "# Set headers\n",
    "headers = requests.utils.default_headers()\n",
    "headers.update({ 'User-Agent': 'Mozilla/5.0 (X11; Ubuntu; Linux x86_64; rv:52.0) Gecko/20100101 Firefox/52.0'})"
   ]
  },
  {
   "cell_type": "code",
   "execution_count": 5,
   "metadata": {},
   "outputs": [],
   "source": [
    "html = requests.get(url)\n",
    "soup = BeautifulSoup(html.content, 'html.parser',from_encoding='utf-8')"
   ]
  },
  {
   "cell_type": "markdown",
   "metadata": {},
   "source": [
    "## 'On This Day' Section"
   ]
  },
  {
   "cell_type": "code",
   "execution_count": 6,
   "metadata": {},
   "outputs": [
    {
     "name": "stdout",
     "output_type": "stream",
     "text": [
      "Vikipedi:Tarihte bugün\n"
     ]
    }
   ],
   "source": [
    "tds1 = soup.find_all('td', class_='MainPageBG')[1]\n",
    "#print(tds.prettify())\n",
    "tables = tds1.find_all('table')\n",
    "table2 = tables[2]\n",
    "#On inspection screen, it seems like there are 2 'table' entities but there is another 'table' inside first \n",
    "#'table'>'tbody'>'tr'[1]>'td'>'table'\n",
    "section = table2.find_all('tr')\n",
    "header = section[0].find('th').find('a')['title']\n",
    "print(header)"
   ]
  },
  {
   "cell_type": "code",
   "execution_count": 7,
   "metadata": {},
   "outputs": [],
   "source": [
    "events= section[1].find('div', id = 'mp-itn')"
   ]
  },
  {
   "cell_type": "code",
   "execution_count": 8,
   "metadata": {},
   "outputs": [
    {
     "data": {
      "text/plain": [
       "[('Olaylar', []), ('Doğumlar', []), ('Ölümler', [])]"
      ]
     },
     "execution_count": 8,
     "metadata": {},
     "output_type": "execute_result"
    }
   ],
   "source": [
    "#pHeaders are titles to lists, e.g: Deaths, Events\n",
    "pHeaders = events.find_all('p')\n",
    "headers = []\n",
    "for header in pHeaders:\n",
    "    try:\n",
    "        s = header.find(\"strong\").find('big').text\n",
    "        headers.append((s,[]))\n",
    "    except:\n",
    "        continue #If there is an image of a person, name is written with <p> section\n",
    "#Logic behind continuing with some <p> is \n",
    "#lists and titles are combined as tuples.\n",
    "#Extra paragraph because of an image, breaks the balance.\n",
    "headers"
   ]
  },
  {
   "cell_type": "code",
   "execution_count": 9,
   "metadata": {},
   "outputs": [
    {
     "name": "stdout",
     "output_type": "stream",
     "text": [
      "\n",
      "\n",
      "\n"
     ]
    }
   ],
   "source": [
    "ul = events.find_all('ul')\n",
    "i = 0\n",
    "for liste in ul:\n",
    "    for li in liste.find_all('li'):\n",
    "        headers[i][1].append(li.text)   \n",
    "    print()\n",
    "    i+=1"
   ]
  },
  {
   "cell_type": "markdown",
   "metadata": {},
   "source": [
    "### Prints the today's news in color."
   ]
  },
  {
   "cell_type": "code",
   "execution_count": 10,
   "metadata": {},
   "outputs": [
    {
     "name": "stdout",
     "output_type": "stream",
     "text": [
      "\u001b[1m\u001b[91mOlaylar: \u001b[0m\n",
      "\u001b[94m1920 - Balıkesir'in kuzeyinde, Manyas ve Gönen bölgelerinde ikinci Anzavur Ayaklanması başladı. (İsyan 16 Nisan'da bastırıldı.)\n",
      "\u001b[94m1925 - Sonraları \"Türk Hava Kurumu\" adını alacak olan \"Türk Tayyare Cemiyeti\" kuruldu.\n",
      "\u001b[94m1959 - Fidel Castro, Fulgencio Batista'nın 1 Ocak'ta başkanlıktan uzaklaştırılmasının ardından Küba devlet başkanı oldu.\n",
      "\u001b[94m1969 - 6. Filo'yu protesto için \"Amerikan Emperyalizmine Karşı Mustafa Kemal\" mitinginde gösteri yapanlara bir grubun saldırmasıyla başlayan olaylarda 2 genç öldü, 200 kişi yaralandı. Olay \"Kanlı Pazar\" olarak anılmaya başlandı.\n",
      "\u001b[94m1973 - Rauf Denktaş, Kıbrıs cumhurbaşkanı yardımcılığına seçildi.\n",
      "\u001b[94m1976 - Türkiye'nin Beyrut büyükelçiliği başkatibi Oktar Cirit, tabancayla vurularak öldürüldü. Saldırıyı Ermeni terör örgütü ASALA üstlendi.\n",
      "\u001b[94m1986 - Portekiz'de seçimler yapıldı. Mario Soares 60 yıl sonra Portekiz'in ilk sivil başkanı oldu.\n",
      "\u001b[94m1998 - Çin havayollarına ait bir yolcu uçağı Çang Kay Şek uluslararası havaalanı yakınlarında düştü: 202 kişi öldü.\n",
      "\u001b[94m1999 - PKK örgütü lideri Abdullah Öcalan'ın Türk güvenlik güçlerince yakalanmasının ardından, örgüt taraftarları Avrupa çapında elçilik işgalleri ve rehin alma  eylemlerine giriştiler.\n",
      "\u001b[94m2005 - Eski başbakan Mesut Yılmaz ve eski devlet bakanı Güneş Taner'in Türkbank ihalesine fesat karıştırmak suçundan Yüce Divan'da yargılanmalarına başlandı.\n",
      "\n",
      "\u001b[1m\u001b[91mDoğumlar: \u001b[0m\n",
      "\u001b[94m1731 - Marcello Bacciarelli İtalyan ressam (ö. 5 Ocak 1818)\n",
      "\u001b[94m1831 - Nikolai Leskov, Rus yazar (ö. 1895)\n",
      "\u001b[94m1935 - Sonny Bono, Amerikan şarkıcı, oyuncu ve politikacı (ö. 1998)\n",
      "\u001b[94m1941 - Kim Jong-il, Kuzey Kore'nin eski ulusal lideri (ö. 2011)\n",
      "\u001b[94m1978 - Tia Hellebaut, Belçikalı atlet\n",
      "\n",
      "\u001b[1m\u001b[91mÖlümler: \u001b[0m\n",
      "\u001b[94m1391 - V. İoannis, Bizans İmparatoru (d. 1332)\n",
      "\u001b[94m1459 - Akşemseddin, Türk âlimi ve II. Mehmed'in hocası (d. 1389)\n",
      "\u001b[94m1917 - Octave Mirbeau, Fransız yazar (d. 1848)\n",
      "\u001b[94m1934 - Kaptanzade Ali Rıza Bey, Türk söz yazarı ve besteci (d. 1881)\n",
      "\u001b[94m2000 - Lila Kedrova, Rus asıllı Fransız oyuncu (d. 1918)\n",
      "\n"
     ]
    }
   ],
   "source": [
    "for news in headers:\n",
    "    print(color.BOLD+color.RED+news[0]+\": \"+color.END)\n",
    "    for new in news[1]:\n",
    "        print(color.BLUE+new)\n",
    "    print()"
   ]
  },
  {
   "cell_type": "code",
   "execution_count": null,
   "metadata": {},
   "outputs": [],
   "source": []
  }
 ],
 "metadata": {
  "kernelspec": {
   "display_name": "Python 3",
   "language": "python",
   "name": "python3"
  },
  "language_info": {
   "codemirror_mode": {
    "name": "ipython",
    "version": 3
   },
   "file_extension": ".py",
   "mimetype": "text/x-python",
   "name": "python",
   "nbconvert_exporter": "python",
   "pygments_lexer": "ipython3",
   "version": "3.7.1"
  }
 },
 "nbformat": 4,
 "nbformat_minor": 2
}
