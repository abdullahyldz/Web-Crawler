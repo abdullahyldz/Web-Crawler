{
 "cells": [
  {
   "cell_type": "code",
   "execution_count": 1,
   "metadata": {},
   "outputs": [],
   "source": [
    "import numpy as np"
   ]
  },
  {
   "cell_type": "code",
   "execution_count": 2,
   "metadata": {},
   "outputs": [],
   "source": [
    "example1=\"jimmy\"\n",
    "example2=\"jenny\""
   ]
  },
  {
   "cell_type": "code",
   "execution_count": 3,
   "metadata": {},
   "outputs": [
    {
     "name": "stdout",
     "output_type": "stream",
     "text": [
      "5 5\n"
     ]
    }
   ],
   "source": [
    "len1 = len(example1)\n",
    "len2 = len(example2)\n",
    "print(len1,len2)"
   ]
  },
  {
   "cell_type": "code",
   "execution_count": 4,
   "metadata": {},
   "outputs": [],
   "source": [
    "example1=\"jimmy\"\n",
    "example2=\"jenny\"\n",
    "len1 = len(example1)\n",
    "len2 = len(example2)\n",
    "#j if i==0 else 0 for j in range(len2+1)\n",
    "distanceMap = [[0] for i in range(len1+1)]\n",
    "distanceMap[0] = [i for i in range(len2+1)]\n",
    "for row in distanceMap:\n",
    "    print(row)\n",
    "for i in range(len1):\n",
    "    for j in range(len2):\n",
    "        adder = 0 if(example1[i]==example2[j]) else 1\n",
    "        dist = min(distanceMap[i+1][j]+1,distanceMap[i][j+1]+1,distanceMap[i][j]+adder)\n",
    "        distanceMap[i+1].append(dist)"
   ]
  },
  {
   "cell_type": "code",
   "execution_count": 5,
   "metadata": {},
   "outputs": [
    {
     "name": "stdout",
     "output_type": "stream",
     "text": [
      "[0, 1, 2, 3, 4, 5]\n",
      "[0]\n",
      "[0]\n",
      "[0]\n",
      "[0]\n",
      "[0]\n"
     ]
    }
   ],
   "source": []
  },
  {
   "cell_type": "code",
   "execution_count": 6,
   "metadata": {},
   "outputs": [],
   "source": []
  },
  {
   "cell_type": "code",
   "execution_count": 7,
   "metadata": {},
   "outputs": [
    {
     "name": "stdout",
     "output_type": "stream",
     "text": [
      "[0, 1, 2, 3, 4, 5]\n",
      "[0, 0, 1, 2, 3, 4]\n",
      "[0, 1, 1, 2, 3, 4]\n",
      "[0, 1, 2, 2, 3, 4]\n",
      "[0, 1, 2, 3, 3, 4]\n",
      "[0, 1, 2, 3, 4, 3]\n"
     ]
    }
   ],
   "source": [
    "for row in distanceMap:\n",
    "    print(row)"
   ]
  },
  {
   "cell_type": "code",
   "execution_count": 8,
   "metadata": {},
   "outputs": [
    {
     "name": "stdout",
     "output_type": "stream",
     "text": [
      "[0, 'j', 'e', 'n', 'n', 'y']\n",
      "[0, 0, 1, 2, 3, 4]\n",
      "[0, 1, 1, 2, 3, 4]\n",
      "[0, 1, 2, 2, 3, 4]\n",
      "[0, 1, 2, 3, 3, 4]\n",
      "[0, 1, 2, 3, 4, 3]\n"
     ]
    }
   ],
   "source": [
    "distanceMap[0][1:] = list(example2)\n",
    "#print(list(example2))\n",
    "for index,row in enumerate(distanceMap):\n",
    "    print(row)"
   ]
  },
  {
   "cell_type": "code",
   "execution_count": 9,
   "metadata": {},
   "outputs": [],
   "source": [
    "result = distanceMap[len1][len2]"
   ]
  },
  {
   "cell_type": "markdown",
   "metadata": {},
   "source": [
    "## Results: "
   ]
  },
  {
   "cell_type": "code",
   "execution_count": 10,
   "metadata": {},
   "outputs": [
    {
     "name": "stdout",
     "output_type": "stream",
     "text": [
      "The edit distance between 'jimmy' and 'jenny' is 3\n"
     ]
    }
   ],
   "source": [
    "print(\"The edit distance between '%s' and '%s' is %d\" % (example1, example2, result))"
   ]
  },
  {
   "cell_type": "code",
   "execution_count": 11,
   "metadata": {},
   "outputs": [],
   "source": [
    "distanceMap[1:] = [[example1[index],row[1:]] for index,row in enumerate(distanceMap[1:])]\n",
    "distanceMap[0][1:] = list(example2)"
   ]
  },
  {
   "cell_type": "code",
   "execution_count": null,
   "metadata": {},
   "outputs": [],
   "source": []
  },
  {
   "cell_type": "code",
   "execution_count": 12,
   "metadata": {},
   "outputs": [
    {
     "data": {
      "text/plain": [
       "[[0, 'j', 'e', 'n', 'n', 'y'],\n",
       " ['j', [0, 1, 2, 3, 4]],\n",
       " ['i', [1, 1, 2, 3, 4]],\n",
       " ['m', [1, 2, 2, 3, 4]],\n",
       " ['m', [1, 2, 3, 3, 4]],\n",
       " ['y', [1, 2, 3, 4, 3]]]"
      ]
     },
     "execution_count": 12,
     "metadata": {},
     "output_type": "execute_result"
    }
   ],
   "source": [
    "distanceMap"
   ]
  },
  {
   "cell_type": "code",
   "execution_count": null,
   "metadata": {},
   "outputs": [],
   "source": []
  }
 ],
 "metadata": {
  "kernelspec": {
   "display_name": "Python 3",
   "language": "python",
   "name": "python3"
  },
  "language_info": {
   "codemirror_mode": {
    "name": "ipython",
    "version": 3
   },
   "file_extension": ".py",
   "mimetype": "text/x-python",
   "name": "python",
   "nbconvert_exporter": "python",
   "pygments_lexer": "ipython3",
   "version": "3.7.1"
  }
 },
 "nbformat": 4,
 "nbformat_minor": 2
}
