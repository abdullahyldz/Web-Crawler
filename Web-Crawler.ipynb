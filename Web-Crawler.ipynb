{
 "cells": [
  {
   "cell_type": "markdown",
   "metadata": {},
   "source": [
    "# Crawl Main Turkish Wikipedia Page"
   ]
  },
  {
   "cell_type": "code",
   "execution_count": 36,
   "metadata": {},
   "outputs": [],
   "source": [
    "#First import neccessary libraries\n",
    "from bs4 import BeautifulSoup\n",
    "import requests"
   ]
  },
  {
   "cell_type": "code",
   "execution_count": 37,
   "metadata": {},
   "outputs": [],
   "source": [
    "# color class is copied from an answer to stackoverflow post by Boubakr\n",
    "# https://stackoverflow.com/questions/8924173/how-do-i-print-bold-text-in-python\n",
    "class color:\n",
    "   PURPLE = '\\033[95m'\n",
    "   CYAN = '\\033[96m'\n",
    "   DARKCYAN = '\\033[36m'\n",
    "   BLUE = '\\033[94m'\n",
    "   GREEN = '\\033[92m'\n",
    "   YELLOW = '\\033[93m'\n",
    "   RED = '\\033[91m'\n",
    "   BOLD = '\\033[1m'\n",
    "   UNDERLINE = '\\033[4m'\n",
    "   END = '\\033[0m'"
   ]
  },
  {
   "cell_type": "code",
   "execution_count": 38,
   "metadata": {},
   "outputs": [],
   "source": [
    "class News():\n",
    "    header = ''\n",
    "    news = {}"
   ]
  },
  {
   "cell_type": "code",
   "execution_count": 39,
   "metadata": {},
   "outputs": [],
   "source": [
    "def getTodaysNews(soup):\n",
    "    todaysNews = News()\n",
    "    tds1 = soup.find_all('td', class_='MainPageBG')[1]\n",
    "    table2 = tds1.find_all('table')[2]\n",
    "    section = table2.find_all('tr')\n",
    "    header = section[0].find('th').find('a')['title']\n",
    "    todaysNews.header = header\n",
    "    events= section[1].find('div', id = 'mp-itn')\n",
    "    #pHeaders are titles to lists, e.g: Deaths, Events\n",
    "    pHeaders = events.find_all('p')\n",
    "    headers = []\n",
    "    for header in pHeaders:\n",
    "        try:\n",
    "            s = header.find(\"strong\").find('big').text\n",
    "            headers.append((s,[]))\n",
    "        except:\n",
    "            continue #If there is an image of a person, name is written with <p> section\n",
    "    #Logic behind continuing with some <p> is \n",
    "    #lists and titles are combined as tuples.\n",
    "    #Extra paragraph because of an image, breaks the balance.\n",
    "    headers\n",
    "    ul = events.find_all('ul')\n",
    "    i = 0\n",
    "    for liste in ul:\n",
    "        for li in liste.find_all('li'):\n",
    "            headers[i][1].append(li.text)   \n",
    "        i+=1\n",
    "    todaysNews = {}\n",
    "\n",
    "    for news in headers:\n",
    "        todaysNews[news[0]] = news[1]\n",
    "    return todaysNews"
   ]
  },
  {
   "cell_type": "code",
   "execution_count": 41,
   "metadata": {},
   "outputs": [],
   "source": [
    "def crawlWiki(url):\n",
    "    # Set headers\n",
    "    headers = requests.utils.default_headers()\n",
    "    headers.update({ 'User-Agent': 'Mozilla/5.0 (X11; Ubuntu; Linux x86_64; rv:52.0) Gecko/20100101 Firefox/52.0'})\n",
    "    html = requests.get(url)\n",
    "    soup = BeautifulSoup(html.content, 'html.parser',from_encoding='utf-8')\n",
    "    todaysNews = getTodaysNews(soup)\n",
    "    return todaysNews"
   ]
  },
  {
   "cell_type": "code",
   "execution_count": 42,
   "metadata": {},
   "outputs": [],
   "source": [
    "#Crawling main Turkish Wikipedia page\n",
    "url = \"https://tr.wikipedia.org/wiki/Anasayfa\"\n",
    "\n",
    "todaysNews = crawlWiki(url)"
   ]
  },
  {
   "cell_type": "code",
   "execution_count": 75,
   "metadata": {},
   "outputs": [],
   "source": [
    "test = list(todaysNews.values())[0][2]"
   ]
  },
  {
   "cell_type": "code",
   "execution_count": 76,
   "metadata": {},
   "outputs": [],
   "source": [
    "import re \n",
    "res = re.split(' - ', test)"
   ]
  },
  {
   "cell_type": "code",
   "execution_count": 77,
   "metadata": {},
   "outputs": [
    {
     "data": {
      "text/plain": [
       "\"Singapur, İngiltere'den bağımsızlığını ilân etti.\""
      ]
     },
     "execution_count": 77,
     "metadata": {},
     "output_type": "execute_result"
    }
   ],
   "source": [
    "res[1]"
   ]
  },
  {
   "cell_type": "code",
   "execution_count": 80,
   "metadata": {},
   "outputs": [
    {
     "data": {
      "text/html": [
       "\n",
       "        <iframe\n",
       "            width=\"700\"\n",
       "            height=\"600\"\n",
       "            src=\"./index.html\"\n",
       "            frameborder=\"0\"\n",
       "            allowfullscreen\n",
       "        ></iframe>\n",
       "        "
      ],
      "text/plain": [
       "<IPython.lib.display.IFrame at 0x2a0d685d978>"
      ]
     },
     "execution_count": 80,
     "metadata": {},
     "output_type": "execute_result"
    }
   ],
   "source": [
    "from IPython.display import IFrame\n",
    "\n",
    "IFrame(src='./index.html', width=700, height=600)"
   ]
  },
  {
   "cell_type": "code",
   "execution_count": 72,
   "metadata": {},
   "outputs": [
    {
     "name": "stderr",
     "output_type": "stream",
     "text": [
      "[nltk_data] Downloading package punkt to\n",
      "[nltk_data]     C:\\Users\\Abdullah\\AppData\\Roaming\\nltk_data...\n",
      "[nltk_data]   Package punkt is already up-to-date!\n",
      "[nltk_data] Downloading package averaged_perceptron_tagger to\n",
      "[nltk_data]     C:\\Users\\Abdullah\\AppData\\Roaming\\nltk_data...\n",
      "[nltk_data]   Package averaged_perceptron_tagger is already up-to-\n",
      "[nltk_data]       date!\n"
     ]
    }
   ],
   "source": [
    "import nltk\n",
    "nltk.download('punkt')\n",
    "nltk.download('averaged_perceptron_tagger')\n",
    "from nltk.tokenize import word_tokenize\n",
    "from nltk.tag import pos_tag"
   ]
  },
  {
   "cell_type": "code",
   "execution_count": 78,
   "metadata": {},
   "outputs": [
    {
     "data": {
      "text/plain": [
       "[('Singapur', 'NNP'),\n",
       " (',', ','),\n",
       " (\"İngiltere'den\", 'NNP'),\n",
       " ('bağımsızlığını', 'NN'),\n",
       " ('ilân', 'NN'),\n",
       " ('etti', 'NN'),\n",
       " ('.', '.')]"
      ]
     },
     "execution_count": 78,
     "metadata": {},
     "output_type": "execute_result"
    }
   ],
   "source": [
    "def preprocess(sent):\n",
    "    sent = nltk.word_tokenize(sent)\n",
    "    sent = nltk.pos_tag(sent)\n",
    "    return sent\n",
    "sent = preprocess(res[1])\n",
    "sent"
   ]
  },
  {
   "cell_type": "code",
   "execution_count": 79,
   "metadata": {},
   "outputs": [
    {
     "name": "stdout",
     "output_type": "stream",
     "text": [
      "(S\n",
      "  Singapur/NNP\n",
      "  ,/,\n",
      "  İngiltere'den/NNP\n",
      "  (NP bağımsızlığını/NN)\n",
      "  (NP ilân/NN)\n",
      "  (NP etti/NN)\n",
      "  ./.)\n"
     ]
    }
   ],
   "source": []
  },
  {
   "cell_type": "code",
   "execution_count": null,
   "metadata": {},
   "outputs": [],
   "source": []
  }
 ],
 "metadata": {
  "kernelspec": {
   "display_name": "Python 3",
   "language": "python",
   "name": "python3"
  },
  "language_info": {
   "codemirror_mode": {
    "name": "ipython",
    "version": 3
   },
   "file_extension": ".py",
   "mimetype": "text/x-python",
   "name": "python",
   "nbconvert_exporter": "python",
   "pygments_lexer": "ipython3",
   "version": "3.8.3"
  }
 },
 "nbformat": 4,
 "nbformat_minor": 2
}
